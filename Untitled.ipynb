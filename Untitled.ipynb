{
 "cells": [
  {
   "cell_type": "code",
   "execution_count": 2,
   "id": "b6f90a6f",
   "metadata": {},
   "outputs": [
    {
     "ename": "NameError",
     "evalue": "name 'bot' is not defined",
     "output_type": "error",
     "traceback": [
      "\u001b[1;31m---------------------------------------------------------------------------\u001b[0m",
      "\u001b[1;31mNameError\u001b[0m                                 Traceback (most recent call last)",
      "\u001b[1;32m~\\AppData\\Local\\Temp/ipykernel_10952/2420858626.py\u001b[0m in \u001b[0;36m<module>\u001b[1;34m\u001b[0m\n\u001b[0;32m     27\u001b[0m \u001b[1;33m\u001b[0m\u001b[0m\n\u001b[0;32m     28\u001b[0m \u001b[1;33m\u001b[0m\u001b[0m\n\u001b[1;32m---> 29\u001b[1;33m \u001b[0mbot\u001b[0m\u001b[1;33m.\u001b[0m\u001b[0mrun\u001b[0m\u001b[1;33m(\u001b[0m\u001b[0mto\u001b[0m\u001b[1;33m)\u001b[0m\u001b[1;33m\u001b[0m\u001b[1;33m\u001b[0m\u001b[0m\n\u001b[0m",
      "\u001b[1;31mNameError\u001b[0m: name 'bot' is not defined"
     ]
    }
   ],
   "source": [
    "import discord\n",
    "from discord.ext import commands\n",
    "\n",
    "import asyncio\n",
    "import nest_asyncio\n",
    "import os\n",
    "\n",
    "module_dir = os.getcwd() + '\\\\module'\n",
    "token_dir = os.getcwd() + '\\\\token'\n",
    "\n",
    "import sys\n",
    "sys.path.append(module_dir)\n",
    "sys.path.append(token_dir)\n",
    "\n",
    "import token \n",
    "\n",
    "# to = token.tk()\n",
    "to = 'OTAzNTM4MjA0NzM5NzY4MzIx.YXubhg.tqThOF_xwrf78KrYDtiCLwGWKLA'\n",
    "\n",
    "\n",
    "async def on_ready() :\n",
    "\tprint('로그인중입니다 ')\n",
    "\tprint(f\"봇 = {bot.user.name}으로 연결중\")\n",
    "\tprint(\"연결이 완료되었습니다.\")\n",
    "\tawait bot.change_presence(status = discord.Status.online, activity = None)\n",
    "\n",
    "\n",
    "\n",
    "bot.run(to)\n"
   ]
  },
  {
   "cell_type": "code",
   "execution_count": null,
   "id": "6db2ab33",
   "metadata": {},
   "outputs": [],
   "source": []
  }
 ],
 "metadata": {
  "kernelspec": {
   "display_name": "Python 3 (ipykernel)",
   "language": "python",
   "name": "python3"
  },
  "language_info": {
   "codemirror_mode": {
    "name": "ipython",
    "version": 3
   },
   "file_extension": ".py",
   "mimetype": "text/x-python",
   "name": "python",
   "nbconvert_exporter": "python",
   "pygments_lexer": "ipython3",
   "version": "3.9.6"
  }
 },
 "nbformat": 4,
 "nbformat_minor": 5
}
