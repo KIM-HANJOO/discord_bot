{
 "cells": [
  {
   "cell_type": "code",
   "execution_count": null,
   "id": "ced147bb",
   "metadata": {},
   "outputs": [],
   "source": [
    "import discord, asyncio, os\n",
    "import nest_asyncio\n",
    "from discord.ext import commands"
   ]
  },
  {
   "cell_type": "code",
   "execution_count": null,
   "id": "4840011e",
   "metadata": {},
   "outputs": [],
   "source": [
    "nest_asyncio.apply()\n",
    "# __import__('IPython').embed()\n",
    "\n",
    "token_path = os.getcwd() + '\\\\token.txt'\n",
    "token_f = open(token_path, 'r')\n",
    "token_it = token_f.read()\n",
    "token_f.close()\n",
    "\n",
    "\n",
    "game = discord.Game(\"Primary Bot\")\n",
    "bot = commands.Bot(command_prefix = '!', status = discord.Status.online, activity = game)\n",
    "\n",
    "\n",
    "bot.run(token_f)"
   ]
  },
  {
   "cell_type": "code",
   "execution_count": null,
   "id": "96b819a1",
   "metadata": {},
   "outputs": [],
   "source": []
  },
  {
   "cell_type": "code",
   "execution_count": null,
   "id": "bae06ec5",
   "metadata": {},
   "outputs": [],
   "source": []
  },
  {
   "cell_type": "code",
   "execution_count": null,
   "id": "15809639",
   "metadata": {},
   "outputs": [],
   "source": []
  }
 ],
 "metadata": {
  "kernelspec": {
   "display_name": "Python 3 (ipykernel)",
   "language": "python",
   "name": "python3"
  },
  "language_info": {
   "codemirror_mode": {
    "name": "ipython",
    "version": 3
   },
   "file_extension": ".py",
   "mimetype": "text/x-python",
   "name": "python",
   "nbconvert_exporter": "python",
   "pygments_lexer": "ipython3",
   "version": "3.9.6"
  }
 },
 "nbformat": 4,
 "nbformat_minor": 5
}
